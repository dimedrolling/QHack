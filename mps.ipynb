{
 "cells": [
  {
   "cell_type": "code",
   "execution_count": 196,
   "metadata": {},
   "outputs": [],
   "source": [
    "import numpy as np\n",
    "from numpy import linalg as LA"
   ]
  },
  {
   "cell_type": "code",
   "execution_count": 197,
   "metadata": {},
   "outputs": [],
   "source": [
    "\n",
    "def matrix_product_state_decomposition(tensor, bond_dim):\n",
    "    # Get the shape of the input tensor\n",
    "    shape = tensor.shape\n",
    "    \n",
    "    # first step \n",
    "    tensor = np.reshape(tensor, (shape[0], -1))\n",
    "    U, S, V = np.linalg.svd(tensor, full_matrices=False)\n",
    "    U = U[:, :bond_dim]\n",
    "    S = np.diag(S[:bond_dim])\n",
    "    V = V[:bond_dim, :]\n",
    "    U = np.reshape(U, (shape[0], bond_dim))\n",
    "    V = np.reshape(V, (bond_dim, -1))\n",
    "\n",
    "    # Initialize left\n",
    "    left_tensors = [U] # Start with identity matrix\n",
    "\n",
    "    # Initialize list to hold core tensors\n",
    "    core_tensors = [S]\n",
    "    \n",
    "    #next step\n",
    "\n",
    "    tensor = V\n",
    "\n",
    "    # Loop through each mode of the tensor\n",
    "    for i in range(1,len(shape)-1):\n",
    "        # Reshape the tensor to matrix form\n",
    "        tensor = np.reshape(tensor, (bond_dim*shape[i],-1))\n",
    "\n",
    "        # Perform singular value decomposition\n",
    "        U, S, V = np.linalg.svd(tensor, full_matrices=False)\n",
    "        \n",
    "        # Truncate the singular values based on bond dimension\n",
    "        U = U[:, :bond_dim]\n",
    "        S = np.diag(S[:bond_dim])\n",
    "        V = V[:bond_dim, :]\n",
    "\n",
    "        # Reshape U and V to tensor form\n",
    "        U = np.reshape(U, (bond_dim, shape[i], bond_dim))\n",
    "        V = np.reshape(V, (bond_dim, -1))\n",
    "        \n",
    "\n",
    "        # Store the core tensor\n",
    "        core_tensors.append(S)\n",
    "\n",
    "        # Append left  tensors for the next iteration\n",
    "        left_tensors.append(U)\n",
    "\n",
    "        tensor = V\n",
    "\n",
    "    V = np.reshape(V, (bond_dim, shape[-1]))\n",
    "        \n",
    "    return left_tensors, core_tensors, V\n"
   ]
  },
  {
   "cell_type": "code",
   "execution_count": 198,
   "metadata": {},
   "outputs": [
    {
     "name": "stdout",
     "output_type": "stream",
     "text": [
      "Left tensors shapes:\n",
      "(2, 2)\n",
      "(2, 2, 2)\n",
      "\n",
      "Core tensors shapes:\n",
      "(2, 2)\n",
      "(2, 2)\n",
      "\n",
      "Right tensor shape:\n",
      "(2, 2)\n"
     ]
    }
   ],
   "source": [
    "\n",
    "# Example usage\n",
    "tensor = np.random.rand(2, 2, 2) # Example tensor\n",
    "bond_dim = 2 # Bond dimension\n",
    "left_tensors, core_tensors, right_tensor = matrix_product_state_decomposition(tensor, bond_dim)\n",
    "\n",
    "# Print the shapes of left, core, and right tensors\n",
    "print(\"Left tensors shapes:\")\n",
    "for t in left_tensors:\n",
    "    print(t.shape)\n",
    "\n",
    "print(\"\\nCore tensors shapes:\")\n",
    "for t in core_tensors:\n",
    "    print(t.shape)\n",
    "\n",
    "print(\"\\nRight tensor shape:\")\n",
    "print(right_tensor.shape)\n",
    "\n"
   ]
  },
  {
   "cell_type": "code",
   "execution_count": 195,
   "metadata": {},
   "outputs": [
    {
     "name": "stdout",
     "output_type": "stream",
     "text": [
      "(2, 4)\n",
      "Relative Frobenius norm of the difference between original tensor and reconstructed tensor: 6.093992464111428e-16\n"
     ]
    }
   ],
   "source": [
    "# Reconstruct the tensor\n",
    "recon = left_tensors[0] \n",
    "\n",
    "for i in range(1,len(left_tensors)):\n",
    "    recon = (recon.reshape(-1, bond_dim) @ core_tensors[i-1]) @ left_tensors[i].reshape(bond_dim,-1)\n",
    "    print(recon.shape)\n",
    "recon = (recon.reshape(-1,bond_dim) @ core_tensors[-1]) @ right_tensor\n",
    "\n",
    "# Check the difference between the original tensor and the reconstructed tensor\n",
    "difference = LA.norm(tensor - recon.reshape(tensor.shape)) \n",
    "print(\"Relative Frobenius norm of the difference between original tensor and reconstructed tensor:\", difference)\n"
   ]
  },
  {
   "cell_type": "code",
   "execution_count": null,
   "metadata": {},
   "outputs": [],
   "source": []
  }
 ],
 "metadata": {
  "kernelspec": {
   "display_name": "Python 3",
   "language": "python",
   "name": "python3"
  },
  "language_info": {
   "codemirror_mode": {
    "name": "ipython",
    "version": 3
   },
   "file_extension": ".py",
   "mimetype": "text/x-python",
   "name": "python",
   "nbconvert_exporter": "python",
   "pygments_lexer": "ipython3",
   "version": "3.10.2"
  }
 },
 "nbformat": 4,
 "nbformat_minor": 2
}
