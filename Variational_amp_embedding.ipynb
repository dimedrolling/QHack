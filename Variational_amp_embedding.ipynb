{
 "cells": [
  {
   "cell_type": "code",
   "execution_count": 1,
   "id": "081ca909",
   "metadata": {
    "scrolled": true
   },
   "outputs": [],
   "source": [
    "import pennylane as qml\n",
    "from pennylane import numpy as np\n",
    "import matplotlib.pyplot as plt\n",
    "from matplotlib.ticker import MaxNLocator\n",
    "from multiprocess import Pool"
   ]
  },
  {
   "cell_type": "code",
   "execution_count": 2,
   "id": "d7653819",
   "metadata": {
    "scrolled": true
   },
   "outputs": [],
   "source": [
    "# function for state normalization\n",
    "def normalize(psi):\n",
    "    norm = np.sqrt(np.sum(np.absolute(psi)**2))\n",
    "    return psi/norm"
   ]
  },
  {
   "cell_type": "code",
   "execution_count": 3,
   "id": "3393c2a2",
   "metadata": {
    "scrolled": true
   },
   "outputs": [],
   "source": [
    "#checkerboard anzatz\n",
    "def variational_circuit(weights, num_layers, num_qubits):\n",
    "    ind = 0\n",
    "    for l in range(num_layers):\n",
    "        for sublayer in range(2):\n",
    "            for j in range(sublayer, num_qubits - 1, 2):\n",
    "                qml.RZ(weights[ind], wires=j); ind += 1\n",
    "                qml.RZ(weights[ind], wires=j+1); ind += 1\n",
    "                qml.IsingXX(weights[ind], wires=[j, j + 1]); ind += 1\n",
    "                qml.RX(weights[ind], wires=j); ind += 1   \n",
    "                qml.RX(weights[ind], wires=j+1); ind += 1   \n",
    "            if sublayer==1 and num_qubits%2==0:\n",
    "                qml.RZ(weights[ind], wires=0); ind += 1\n",
    "                qml.RZ(weights[ind], wires=num_qubits-1); ind += 1\n",
    "                qml.IsingXX(weights[ind], wires=[0, num_qubits-1]); ind += 1\n",
    "                qml.RX(weights[ind], wires=0); ind += 1   \n",
    "                qml.RX(weights[ind], wires=num_qubits-1); ind += 1   "
   ]
  },
  {
   "cell_type": "code",
   "execution_count": 4,
   "id": "cbca681a",
   "metadata": {
    "scrolled": false
   },
   "outputs": [],
   "source": [
    "class Variational_amplitude_embedding:\n",
    "         \n",
    "    def __init__(self, num_qubits, num_layers, optimizer):\n",
    "        \n",
    "        self.num_qubits = num_qubits\n",
    "        self.num_layers = num_layers\n",
    "        if num_qubits%2 == 0:\n",
    "            self.num_weights = 5*num_qubits*num_layers\n",
    "        else:\n",
    "            self.num_weights = 5*(num_qubits-1)*num_layers\n",
    "        self.optimizer = optimizer\n",
    "        self.device = qml.device(\"default.qubit\", wires=self.num_qubits)\n",
    "        \n",
    "    def prepare_state(self, weights):\n",
    "        @qml.qnode(self.device)\n",
    "        def state_circuit(weights):\n",
    "            variational_circuit(weights, self.num_layers, self.num_qubits)\n",
    "            return qml.state()\n",
    "        return state_circuit(weights)\n",
    "    \n",
    "    def cost_function(self, weights, target_state):\n",
    "        overlap=np.inner(self.prepare_state(weights), target_state)\n",
    "        return -np.absolute(overlap)**2\n",
    "    \n",
    "    def init_weights(self, seed):\n",
    "        if seed != None:\n",
    "            np.random.rand(seed)\n",
    "        return 2*np.pi*np.random.rand(self.num_weights, requires_grad=True)  # Random initial weights\n",
    "        \n",
    "    def optimize(self, target_state, steps, seed=None):\n",
    "        self.costs_list = []\n",
    "        weights=self.init_weights(seed=seed)\n",
    "        for i in range(steps):\n",
    "            weights, cost = self.optimizer.step_and_cost(self.cost_function, weights, target_state=target_state)\n",
    "            if (i + 1) % 10 == 0:\n",
    "                self.costs_list.append(cost)\n",
    "        self.final_state = self.prepare_state(weights)\n",
    "        self.weights = weights\n",
    "        return weights, self.costs_list"
   ]
  },
  {
   "cell_type": "code",
   "execution_count": null,
   "id": "3712fefc",
   "metadata": {
    "scrolled": true
   },
   "outputs": [],
   "source": [
    "### example of use ###\n",
    "\n",
    "num_layers=15 #number of an anzatz layers\n",
    "num_qubits=6\n",
    "\n",
    "#create target state\n",
    "np.random.seed(0)\n",
    "psi = normalize(np.random.uniform(low=-1, high=1, size=2**num_qubits, requires_grad=False))\n",
    "        \n",
    "optimizer=qml.GradientDescentOptimizer(0.01) #initialize optimizer\n",
    "var_amp_emb=Variational_amplitude_embedding(num_qubits, num_layers, optimizer) #create the class for variational embedding\n",
    "weights, cost = var_amp_emb.optimize(psi, steps=1000, seed=0) #optimize variational circuit for amplitude embedding"
   ]
  },
  {
   "cell_type": "code",
   "execution_count": 6,
   "id": "999a608d",
   "metadata": {
    "scrolled": true
   },
   "outputs": [],
   "source": [
    "# the function which repeats variational embedding multiple times\n",
    "def job(num_qubits, num_layers, optimizer, n_repeat, steps):\n",
    "    res_list = np.empty((n_repeat, steps//10))\n",
    "    var_amp_emb=Variational_amplitude_embedding(num_qubits, num_layers, optimizer)\n",
    "    for i in range(n_repeat):\n",
    "        np.random.seed(i)\n",
    "        psi = normalize(np.random.uniform(low=-1, high=1, size=2**num_qubits, requires_grad=False))\n",
    "        _, cost_list = var_amp_emb.optimize(psi, steps, seed=i)\n",
    "        res_list[i] = cost_list\n",
    "    return res_list"
   ]
  },
  {
   "cell_type": "code",
   "execution_count": null,
   "id": "360c7851",
   "metadata": {
    "scrolled": true
   },
   "outputs": [],
   "source": [
    "num_qubits_list=[2, 4, 6] #list of qubits to loop\n",
    "num_layers_list=[1, 3, 5, 7, 10, 15] #list of layers to loop\n",
    "optimizer=qml.GradientDescentOptimizer(0.01) #optimizer\n",
    "n_repeat=100 \n",
    "steps=1000\n",
    "\n",
    "res_list = []\n",
    "\n",
    "with Pool() as mp_pool: #parallel execution\n",
    "    \n",
    "    for nq, num_qubits in enumerate(num_qubits_list):\n",
    "        for nl, num_layers in enumerate(num_layers_list):\n",
    "            res_list += [ mp_pool.apply_async(job, (num_qubits, num_layers, optimizer, n_repeat, steps))]\n",
    "\n",
    "    mp_pool.close()\n",
    "    mp_pool.join()"
   ]
  },
  {
   "cell_type": "code",
   "execution_count": 8,
   "id": "20a2dc5b",
   "metadata": {
    "scrolled": false
   },
   "outputs": [],
   "source": [
    "#retrieve the data\n",
    "res_list = [res.get() for res in res_list]"
   ]
  },
  {
   "cell_type": "code",
   "execution_count": 10,
   "id": "a1ed2328",
   "metadata": {
    "scrolled": true
   },
   "outputs": [],
   "source": [
    "#data for a plot\n",
    "results = np.empty((len(num_qubits_list), len(num_layers_list), n_repeat, steps//10))\n",
    "for nq in range(len(num_qubits_list)):\n",
    "    for nl in range(len(num_layers_list)):\n",
    "        results[nq, nl] = res_list[nq*len(num_layers_list)+nl]\n",
    "        \n",
    "means = np.mean(results, axis=2)[:, :, -1]\n",
    "stds = np.std(results, axis=2)[:, :, -1]"
   ]
  },
  {
   "cell_type": "code",
   "execution_count": 34,
   "id": "93bfcfec",
   "metadata": {
    "scrolled": true
   },
   "outputs": [
    {
     "data": {
      "image/png": "[encoded data removed]",
      "text/plain": [
       "<Figure size 432x288 with 1 Axes>"
      ]
     },
     "metadata": {
      "needs_background": "light"
     },
     "output_type": "display_data"
    }
   ],
   "source": [
    "#final plots\n",
    "f, ax1 = plt.subplots(1,1, figsize = (6,4))\n",
    "\n",
    "for nq, num_qubits in enumerate(num_qubits_list):\n",
    "    ax1.plot(num_layers_list, 1+means[nq], '.-',markersize=15,label=f'{num_qubits} qubits' )\n",
    "    ax1.fill_between(num_layers_list, 1+means[nq]-stds[nq], 1+means[nq]+stds[nq], alpha=0.1)\n",
    "\n",
    "ax1.grid(alpha = 1)\n",
    "ax1.xaxis.set_major_locator(MaxNLocator(integer=True))\n",
    "ax1.set_xlabel('# of layers', fontsize = 15 )\n",
    "ax1.set_ylabel('error', fontsize = 15)\n",
    "\n",
    "ax1.legend(fontsize = 15, loc='upper right')\n",
    "ax1.tick_params(axis='x', labelsize=15)\n",
    "ax1.tick_params(axis='y', labelsize=15)\n",
    "\n",
    "plt.tight_layout()\n",
    "plt.savefig('variational_approach.pdf')"
   ]
  },
  {
   "cell_type": "code",
   "execution_count": null,
   "id": "43867182",
   "metadata": {},
   "outputs": [],
   "source": []
  }
 ],
 "metadata": {
  "kernelspec": {
   "display_name": "Python 3 (ipykernel)",
   "language": "python",
   "name": "python3"
  },
  "language_info": {
   "codemirror_mode": {
    "name": "ipython",
    "version": 3
   },
   "file_extension": ".py",
   "mimetype": "text/x-python",
   "name": "python",
   "nbconvert_exporter": "python",
   "pygments_lexer": "ipython3",
   "version": "3.10.12"
  }
 },
 "nbformat": 4,
 "nbformat_minor": 5
}
